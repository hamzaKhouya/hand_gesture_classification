{
 "cells": [
  {
   "cell_type": "markdown",
   "id": "5e9bf72c",
   "metadata": {},
   "source": [
    "## Importation des bibliotheques"
   ]
  },
  {
   "cell_type": "code",
   "execution_count": 1,
   "id": "5bc07fb2",
   "metadata": {},
   "outputs": [],
   "source": [
    "import numpy as np\n",
    "import os\n",
    "from keras.layers import Conv2D, MaxPool2D, Flatten, Dense, Dropout, BatchNormalization\n",
    "from keras.models import Sequential\n",
    "from keras import regularizers\n",
    "from sklearn.model_selection import train_test_split\n",
    "import cv2\n",
    "from tensorflow import keras"
   ]
  },
  {
   "cell_type": "markdown",
   "id": "03f25633",
   "metadata": {},
   "source": [
    "## Dossier dans laquel le dataset est situe"
   ]
  },
  {
   "cell_type": "code",
   "execution_count": 2,
   "id": "0cfb5de5",
   "metadata": {},
   "outputs": [],
   "source": [
    "train_dir = '/home/pc/Documents/hand_gesture_cnn/Data/train_data'\n",
    "test_dir = '/home/pc/Documents/hand_gesture_cnn/Data/test_train'\n",
    "labels_dict = {'A':0,'B':1,'C':2,'D':3,'E':4,'F':5,'G':6,'H':7,'I':8,'J':9,'K':10,'L':11,'M':12,\n",
    "                   'N':13,'O':14,'P':15,'Q':16,'R':17,'S':18,'T':19,'U':20,'V':21,'W':22,'X':23,'Y':24,\n",
    "                   'Z':25,'space':26,'del':27,'nothing':28}"
   ]
  },
  {
   "cell_type": "code",
   "execution_count": 3,
   "id": "f04ea1dd",
   "metadata": {},
   "outputs": [],
   "source": [
    "def load_data():\n",
    "    images = []\n",
    "    labels = []\n",
    "    size = (64,64)\n",
    "    print(\"Importer le dossier : \",end = \"\")\n",
    "    for folder in os.listdir(train_dir):\n",
    "        print(folder, end = ' | ')\n",
    "        for image in os.listdir(train_dir + \"/\" + folder):\n",
    "            temp_img = cv2.imread(train_dir + '/' + folder + '/' + image)\n",
    "            temp_img = cv2.resize(temp_img, size)\n",
    "            images.append(temp_img)\n",
    "            labels.append(labels_dict[folder])\n",
    "    \n",
    "    images = np.array(images)\n",
    "    images = images.astype('float32')/255.0\n",
    "    \n",
    "    labels = keras.utils.to_categorical(labels,29)\n",
    "    \n",
    "    X_train, X_test, Y_train, Y_test = train_test_split(images, labels, test_size = 0.05)\n",
    "    \n",
    "    print()\n",
    "    print('Charger', len(X_train),'images pour training,','la taille de données de Train  =',X_train.shape)\n",
    "    print('Charger', len(X_test),'images pour testing','la taille de données de Test =',X_test.shape)\n",
    "    \n",
    "    return X_train, X_test, Y_train, Y_test"
   ]
  },
  {
   "cell_type": "code",
   "execution_count": 4,
   "id": "e6dd1ec0",
   "metadata": {},
   "outputs": [
    {
     "name": "stdout",
     "output_type": "stream",
     "text": [
      "Importer le dossier : F | J | O | P | T | nothing | K | W | S | Z | del | E | M | L | C | A | V | D | B | R | U | H | X | N | Y | G | space | Q | I | \n",
      "Charger 82650 images pour training, la taille de données de Train  = (82650, 64, 64, 3)\n",
      "Charger 4350 images pour testing la taille de données de Test = (4350, 64, 64, 3)\n",
      "CPU times: user 2min 35s, sys: 7.77 s, total: 2min 43s\n",
      "Wall time: 2min 44s\n"
     ]
    }
   ],
   "source": [
    "%%time\n",
    "X_train, X_test, Y_train, Y_test = load_data()"
   ]
  },
  {
   "cell_type": "markdown",
   "id": "c089027f",
   "metadata": {},
   "source": [
    "# Creation du modele"
   ]
  },
  {
   "cell_type": "code",
   "execution_count": 5,
   "id": "deb7a202",
   "metadata": {},
   "outputs": [
    {
     "name": "stdout",
     "output_type": "stream",
     "text": [
      "Modele Créer\n",
      "Model: \"sequential\"\n",
      "_________________________________________________________________\n",
      " Layer (type)                Output Shape              Param #   \n",
      "=================================================================\n",
      " conv2d (Conv2D)             (None, 64, 64, 16)        448       \n",
      "                                                                 \n",
      " conv2d_1 (Conv2D)           (None, 64, 64, 32)        4640      \n",
      "                                                                 \n",
      " max_pooling2d (MaxPooling2D  (None, 21, 21, 32)       0         \n",
      " )                                                               \n",
      "                                                                 \n",
      " conv2d_2 (Conv2D)           (None, 21, 21, 32)        9248      \n",
      "                                                                 \n",
      " conv2d_3 (Conv2D)           (None, 21, 21, 64)        18496     \n",
      "                                                                 \n",
      " max_pooling2d_1 (MaxPooling  (None, 7, 7, 64)         0         \n",
      " 2D)                                                             \n",
      "                                                                 \n",
      " conv2d_4 (Conv2D)           (None, 7, 7, 128)         73856     \n",
      "                                                                 \n",
      " conv2d_5 (Conv2D)           (None, 7, 7, 256)         295168    \n",
      "                                                                 \n",
      " max_pooling2d_2 (MaxPooling  (None, 2, 2, 256)        0         \n",
      " 2D)                                                             \n",
      "                                                                 \n",
      " batch_normalization (BatchN  (None, 2, 2, 256)        1024      \n",
      " ormalization)                                                   \n",
      "                                                                 \n",
      " flatten (Flatten)           (None, 1024)              0         \n",
      "                                                                 \n",
      " dropout (Dropout)           (None, 1024)              0         \n",
      "                                                                 \n",
      " dense (Dense)               (None, 512)               524800    \n",
      "                                                                 \n",
      " dense_1 (Dense)             (None, 29)                14877     \n",
      "                                                                 \n",
      "=================================================================\n",
      "Total params: 942,557\n",
      "Trainable params: 942,045\n",
      "Non-trainable params: 512\n",
      "_________________________________________________________________\n",
      "CPU times: user 618 ms, sys: 28.6 ms, total: 646 ms\n",
      "Wall time: 592 ms\n"
     ]
    }
   ],
   "source": [
    "%%time\n",
    "model = Sequential()\n",
    "    \n",
    "model.add(Conv2D(16, kernel_size = [3,3], padding = 'same', activation = 'relu', input_shape = (64,64,3)))\n",
    "model.add(Conv2D(32, kernel_size = [3,3], padding = 'same', activation = 'relu'))\n",
    "model.add(MaxPool2D(pool_size = [3,3]))\n",
    "    \n",
    "model.add(Conv2D(32, kernel_size = [3,3], padding = 'same', activation = 'relu'))\n",
    "model.add(Conv2D(64, kernel_size = [3,3], padding = 'same', activation = 'relu'))\n",
    "model.add(MaxPool2D(pool_size = [3,3]))\n",
    "    \n",
    "model.add(Conv2D(128, kernel_size = [3,3], padding = 'same', activation = 'relu'))\n",
    "model.add(Conv2D(256, kernel_size = [3,3], padding = 'same', activation = 'relu'))\n",
    "model.add(MaxPool2D(pool_size = [3,3]))\n",
    "    \n",
    "model.add(BatchNormalization())\n",
    "    \n",
    "model.add(Flatten())\n",
    "model.add(Dropout(0.5))\n",
    "model.add(Dense(512, activation = 'relu', kernel_regularizer = regularizers.l2(0.001)))\n",
    "model.add(Dense(29, activation = 'softmax'))\n",
    "    \n",
    "model.compile(optimizer = 'adam', loss = keras.losses.categorical_crossentropy, metrics = [\"accuracy\"])\n",
    "    \n",
    "print(\"Modele Créer\")\n",
    "model.summary()"
   ]
  },
  {
   "cell_type": "code",
   "execution_count": 6,
   "id": "9e68bd1f",
   "metadata": {},
   "outputs": [
    {
     "name": "stdout",
     "output_type": "stream",
     "text": [
      "Epoch 1/5\n",
      "1163/1163 [==============================] - 873s 749ms/step - loss: 0.8447 - accuracy: 0.8186 - val_loss: 0.3944 - val_accuracy: 0.9195\n",
      "Epoch 2/5\n",
      "1163/1163 [==============================] - 970s 834ms/step - loss: 0.1906 - accuracy: 0.9772 - val_loss: 0.2094 - val_accuracy: 0.9667\n",
      "Epoch 3/5\n",
      "1163/1163 [==============================] - 915s 787ms/step - loss: 0.1654 - accuracy: 0.9823 - val_loss: 0.1584 - val_accuracy: 0.9802\n",
      "Epoch 4/5\n",
      "1163/1163 [==============================] - 914s 786ms/step - loss: 0.1554 - accuracy: 0.9851 - val_loss: 0.1063 - val_accuracy: 0.9940\n",
      "Epoch 5/5\n",
      "1163/1163 [==============================] - 1040s 895ms/step - loss: 0.1471 - accuracy: 0.9858 - val_loss: 0.1735 - val_accuracy: 0.9864\n",
      "CPU times: user 7h 36min 8s, sys: 14min 2s, total: 7h 50min 11s\n",
      "Wall time: 1h 18min 37s\n"
     ]
    },
    {
     "data": {
      "text/plain": [
       "<keras.callbacks.History at 0x7f20b727f220>"
      ]
     },
     "execution_count": 6,
     "metadata": {},
     "output_type": "execute_result"
    }
   ],
   "source": [
    "%%time\n",
    "model.fit(X_train, Y_train, batch_size = 64, epochs = 5, validation_split = 0.1)"
   ]
  },
  {
   "cell_type": "code",
   "execution_count": 10,
   "id": "f43c7d3d",
   "metadata": {},
   "outputs": [],
   "source": [
    "model.save(\"model_ASL.h5\")"
   ]
  },
  {
   "cell_type": "code",
   "execution_count": null,
   "id": "abb32e2c",
   "metadata": {},
   "outputs": [],
   "source": []
  }
 ],
 "metadata": {
  "kernelspec": {
   "display_name": "Python 3",
   "language": "python",
   "name": "python3"
  },
  "language_info": {
   "codemirror_mode": {
    "name": "ipython",
    "version": 3
   },
   "file_extension": ".py",
   "mimetype": "text/x-python",
   "name": "python",
   "nbconvert_exporter": "python",
   "pygments_lexer": "ipython3",
   "version": "3.9.4"
  }
 },
 "nbformat": 4,
 "nbformat_minor": 5
}
